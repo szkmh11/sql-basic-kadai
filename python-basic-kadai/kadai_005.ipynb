{
  "nbformat": 4,
  "nbformat_minor": 0,
  "metadata": {
    "colab": {
      "provenance": []
    },
    "kernelspec": {
      "name": "python3",
      "display_name": "Python 3"
    },
    "language_info": {
      "name": "python"
    }
  },
  "cells": [
    {
      "cell_type": "code",
      "execution_count": null,
      "metadata": {
        "id": "fha5hF__z_wi"
      },
      "outputs": [],
      "source": [
        "keisan = str((10 + 20)* 5 / 2)\n",
        "tani = \"㎠\"\n",
        "print(keisan + tani)\n"
      ]
    }
  ]
}